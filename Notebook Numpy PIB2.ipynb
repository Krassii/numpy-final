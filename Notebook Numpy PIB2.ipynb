{
 "cells": [
  {
   "cell_type": "markdown",
   "metadata": {},
   "source": [
    "**ChatGPT is forbidden**"
   ]
  },
  {
   "cell_type": "markdown",
   "metadata": {},
   "source": [
    "**Data generation**"
   ]
  },
  {
   "cell_type": "markdown",
   "metadata": {},
   "source": [
    "Create and visualize arrays containing only real numbers, then integers, then strings, then a mix of integers and strings"
   ]
  },
  {
   "cell_type": "code",
   "execution_count": 6,
   "metadata": {},
   "outputs": [
    {
     "name": "stdout",
     "output_type": "stream",
     "text": [
      "1.24.4\n",
      "openblas64__info:\n",
      "    libraries = ['openblas64_', 'openblas64_']\n",
      "    library_dirs = ['openblas\\\\lib']\n",
      "    language = c\n",
      "    define_macros = [('HAVE_CBLAS', None), ('BLAS_SYMBOL_SUFFIX', '64_'), ('HAVE_BLAS_ILP64', None)]\n",
      "    runtime_library_dirs = ['openblas\\\\lib']\n",
      "blas_ilp64_opt_info:\n",
      "    libraries = ['openblas64_', 'openblas64_']\n",
      "    library_dirs = ['openblas\\\\lib']\n",
      "    language = c\n",
      "    define_macros = [('HAVE_CBLAS', None), ('BLAS_SYMBOL_SUFFIX', '64_'), ('HAVE_BLAS_ILP64', None)]\n",
      "    runtime_library_dirs = ['openblas\\\\lib']\n",
      "openblas64__lapack_info:\n",
      "    libraries = ['openblas64_', 'openblas64_']\n",
      "    library_dirs = ['openblas\\\\lib']\n",
      "    language = c\n",
      "    define_macros = [('HAVE_CBLAS', None), ('BLAS_SYMBOL_SUFFIX', '64_'), ('HAVE_BLAS_ILP64', None), ('HAVE_LAPACKE', None)]\n",
      "    runtime_library_dirs = ['openblas\\\\lib']\n",
      "lapack_ilp64_opt_info:\n",
      "    libraries = ['openblas64_', 'openblas64_']\n",
      "    library_dirs = ['openblas\\\\lib']\n",
      "    language = c\n",
      "    define_macros = [('HAVE_CBLAS', None), ('BLAS_SYMBOL_SUFFIX', '64_'), ('HAVE_BLAS_ILP64', None), ('HAVE_LAPACKE', None)]\n",
      "    runtime_library_dirs = ['openblas\\\\lib']\n",
      "Supported SIMD extensions in this NumPy install:\n",
      "    baseline = SSE,SSE2,SSE3\n",
      "    found = SSSE3,SSE41,POPCNT,SSE42,AVX,F16C,FMA3,AVX2,AVX512F,AVX512CD,AVX512_SKX,AVX512_CLX,AVX512_CNL,AVX512_ICL\n",
      "    not found = \n",
      "None\n"
     ]
    }
   ],
   "source": [
    "import numpy as np\n",
    "print(np.__version__)\n",
    "print(np.show_config())"
   ]
  },
  {
   "cell_type": "code",
   "execution_count": 7,
   "metadata": {},
   "outputs": [
    {
     "name": "stdout",
     "output_type": "stream",
     "text": [
      "with real numbers:  [1. 2. 3. 4. 5. 6.]\n",
      "with integers:  [1 2 3 4 5 6]\n",
      "with strings:  ['1' '2' '3' '4' '5' '6']\n",
      "combined: \n",
      " [['1' '2' '1']\n",
      " ['s' 't' 'r']]\n"
     ]
    }
   ],
   "source": [
    "import numpy as np\n",
    "arr1=np.array([1,2,3,4,5,6],dtype=np.float64)\n",
    "print('with real numbers: ',arr1)\n",
    "arr2=np.array([1,2,3,4,5,6],dtype=np.int64)\n",
    "print('with integers: ',arr2)\n",
    "arr3=np.array([1,2,3,4,5,6],dtype='<U12')\n",
    "print('with strings: ',arr3)\n",
    "arr4=np.array([[1,2,1],['s','t','r']])\n",
    "print('combined: \\n',arr4)\n"
   ]
  },
  {
   "cell_type": "markdown",
   "metadata": {},
   "source": [
    "Add two arrays made of integers, element by element (the two arrays must be the same size)"
   ]
  },
  {
   "cell_type": "code",
   "execution_count": 8,
   "metadata": {},
   "outputs": [
    {
     "name": "stdout",
     "output_type": "stream",
     "text": [
      "[1 2 3]\n",
      "[4 5 6]\n",
      "added:  [5 7 9]\n"
     ]
    }
   ],
   "source": [
    "a1=np.array([1,2,3])\n",
    "a2=np.array([4,5,6])\n",
    "print(a1)\n",
    "print(a2)\n",
    "print('added: ',np.add(a1,a2))"
   ]
  },
  {
   "cell_type": "markdown",
   "metadata": {},
   "source": [
    "Create a 3*3 array including only zeros on the first line, then 1s on the second line, then the number 5 on the third line"
   ]
  },
  {
   "cell_type": "code",
   "execution_count": 9,
   "metadata": {},
   "outputs": [
    {
     "name": "stdout",
     "output_type": "stream",
     "text": [
      "[[0. 0. 0.]\n",
      " [1. 1. 1.]\n",
      " [0. 0. 5.]]\n"
     ]
    }
   ],
   "source": [
    "a3=np.zeros((3,3))\n",
    "a3[1,:]=[1,1,1]\n",
    "a3[2,2]=5\n",
    "print(a3)"
   ]
  },
  {
   "cell_type": "markdown",
   "metadata": {},
   "source": [
    "Extract the shape attribute from this array"
   ]
  },
  {
   "cell_type": "code",
   "execution_count": 10,
   "metadata": {},
   "outputs": [
    {
     "data": {
      "text/plain": [
       "(3, 3)"
      ]
     },
     "execution_count": 10,
     "metadata": {},
     "output_type": "execute_result"
    }
   ],
   "source": [
    "a3.shape"
   ]
  },
  {
   "cell_type": "markdown",
   "metadata": {},
   "source": [
    "Create an array of 3 by 3 by 3 including only real numbers chosen from a normal distribution"
   ]
  },
  {
   "cell_type": "code",
   "execution_count": 11,
   "metadata": {},
   "outputs": [
    {
     "data": {
      "text/plain": [
       "array([[[ 0.23857999, -0.17846653,  0.15208775],\n",
       "        [-0.37266978,  0.47564352, -1.33058033],\n",
       "        [ 1.69865713, -1.38254631, -0.55847457]],\n",
       "\n",
       "       [[-0.31642584, -0.89199308,  0.40480313],\n",
       "        [ 0.39093525, -0.27373202,  0.40544136],\n",
       "        [ 0.43311498,  0.50597459, -0.267677  ]],\n",
       "\n",
       "       [[ 0.37977517, -0.23173228,  0.45512975],\n",
       "        [ 1.24932793,  0.19009863,  0.68028901],\n",
       "        [ 0.13420624, -0.40704686, -0.4138156 ]]])"
      ]
     },
     "execution_count": 11,
     "metadata": {},
     "output_type": "execute_result"
    }
   ],
   "source": [
    "arr3D=np.random.normal(size=(3, 3, 3))\n",
    "#print(arr3D)\n",
    "arr3D"
   ]
  },
  {
   "cell_type": "markdown",
   "metadata": {},
   "source": [
    "Create a vector comprising 7 equally spaced values, between 2 and 3"
   ]
  },
  {
   "cell_type": "code",
   "execution_count": 12,
   "metadata": {},
   "outputs": [
    {
     "data": {
      "text/plain": [
       "array([2.        , 2.16666667, 2.33333333, 2.5       , 2.66666667,\n",
       "       2.83333333, 3.        ])"
      ]
     },
     "execution_count": 12,
     "metadata": {},
     "output_type": "execute_result"
    }
   ],
   "source": [
    "vect=np.linspace(2,3,num=7)\n",
    "vect"
   ]
  },
  {
   "cell_type": "markdown",
   "metadata": {},
   "source": [
    "Use the choice function to sample 5 values ​​from this last vector, once with replacement, and once without replacement"
   ]
  },
  {
   "cell_type": "code",
   "execution_count": 13,
   "metadata": {},
   "outputs": [
    {
     "name": "stdout",
     "output_type": "stream",
     "text": [
      "Sample with replacement: \n",
      "[2.33333333 2.16666667 3.         3.         2.66666667]\n",
      "Sample without replacement: \n",
      "[2.66666667 2.         2.16666667 2.33333333 2.5       ]\n"
     ]
    }
   ],
   "source": [
    "sample1=np.random.choice(vect,5)\n",
    "print('Sample with replacement: ')\n",
    "print(sample1)\n",
    "sample2=np.random.choice(vect,5,replace=False)\n",
    "print('Sample without replacement: ')\n",
    "print(sample2)"
   ]
  },
  {
   "cell_type": "markdown",
   "metadata": {},
   "source": [
    "Create a vector corresponding to a sequence of numbers, from 13 to 19, counting in steps of one"
   ]
  },
  {
   "cell_type": "code",
   "execution_count": 14,
   "metadata": {},
   "outputs": [
    {
     "data": {
      "text/plain": [
       "array([13, 14, 15, 16, 17, 18, 19])"
      ]
     },
     "execution_count": 14,
     "metadata": {},
     "output_type": "execute_result"
    }
   ],
   "source": [
    "vect2=np.arange(13,20,1)\n",
    "vect2"
   ]
  },
  {
   "cell_type": "markdown",
   "metadata": {},
   "source": [
    "Create a 5*5 identity matrix"
   ]
  },
  {
   "cell_type": "code",
   "execution_count": 15,
   "metadata": {},
   "outputs": [
    {
     "data": {
      "text/plain": [
       "array([[1., 0., 0., 0., 0.],\n",
       "       [0., 1., 0., 0., 0.],\n",
       "       [0., 0., 1., 0., 0.],\n",
       "       [0., 0., 0., 1., 0.],\n",
       "       [0., 0., 0., 0., 1.]])"
      ]
     },
     "execution_count": 15,
     "metadata": {},
     "output_type": "execute_result"
    }
   ],
   "source": [
    "np.identity(5)"
   ]
  },
  {
   "cell_type": "markdown",
   "metadata": {},
   "source": [
    "Create a 5*5 matrix of zeros, with 1 on the diagonal. Then specifically extract this diagonal"
   ]
  },
  {
   "cell_type": "code",
   "execution_count": 16,
   "metadata": {},
   "outputs": [
    {
     "data": {
      "text/plain": [
       "array([1., 1., 1., 1., 1.])"
      ]
     },
     "execution_count": 16,
     "metadata": {},
     "output_type": "execute_result"
    }
   ],
   "source": [
    "idmatrix=np.identity(5)\n",
    "np.diag(idmatrix)"
   ]
  },
  {
   "cell_type": "markdown",
   "metadata": {},
   "source": [
    "Complete this NumPy line to determine if the elements of a vector are finite (not infinite or not\n",
    "a number)"
   ]
  },
  {
   "cell_type": "code",
   "execution_count": 17,
   "metadata": {},
   "outputs": [
    {
     "name": "stdout",
     "output_type": "stream",
     "text": [
      "[ True  True False False]\n"
     ]
    }
   ],
   "source": [
    "a = np.array([1, 0, np.nan, np.inf]) \n",
    "print(np.isfinite(a))"
   ]
  },
  {
   "cell_type": "markdown",
   "metadata": {},
   "source": [
    "Complete this NumPy program to test element by element if it corresponds to infinity (positive\n",
    "or negative)"
   ]
  },
  {
   "cell_type": "code",
   "execution_count": 18,
   "metadata": {},
   "outputs": [
    {
     "name": "stdout",
     "output_type": "stream",
     "text": [
      "[False False False  True]\n"
     ]
    }
   ],
   "source": [
    "np.array([1, 0, np.nan, np.inf])\n",
    "print(np.isinf(np.array([1, 0, np.nan, np.inf])))"
   ]
  },
  {
   "cell_type": "markdown",
   "metadata": {},
   "source": [
    "Complete this NumPy program to perform a comparison by element (equal, then equal to\n",
    "a certain tolerance) of two given tables"
   ]
  },
  {
   "cell_type": "code",
   "execution_count": 19,
   "metadata": {},
   "outputs": [
    {
     "name": "stdout",
     "output_type": "stream",
     "text": [
      "[ True  True  True  True  True  True False]\n",
      "True\n"
     ]
    }
   ],
   "source": [
    "x = np.array([72, 79, -135, 120, -10, 60, 100])\n",
    "y = np.array([72, 79, -135, 120, -10, 60, 100.01])\n",
    "print(np.equal(x, y))\n",
    "print(np.allclose(x, y,rtol=0.05))"
   ]
  },
  {
   "cell_type": "markdown",
   "metadata": {},
   "source": [
    "**Subsetting & reshaping**"
   ]
  },
  {
   "cell_type": "markdown",
   "metadata": {},
   "source": [
    "Create an array of 7 by 7 including only real numbers chosen from a normal distribution, then select only the first row, the first column, all columns up to the third, and the element of the second column and third row"
   ]
  },
  {
   "cell_type": "code",
   "execution_count": 20,
   "metadata": {},
   "outputs": [
    {
     "name": "stdout",
     "output_type": "stream",
     "text": [
      "[-0.88833679  1.00717848 -0.84959079 -0.79641808 -1.94697522  1.42799321\n",
      "  0.65172549]\n",
      "[-0.88833679  0.42818381 -0.99938002  2.01782965  0.03155094  0.03082673\n",
      " -0.57264899]\n",
      "[[-0.88833679  1.00717848 -0.84959079]\n",
      " [ 0.42818381 -0.18594562  0.89324993]\n",
      " [-0.99938002  1.03413618  1.87051381]\n",
      " [ 2.01782965  1.12127106  0.63634687]\n",
      " [ 0.03155094  1.36360816 -0.14719208]\n",
      " [ 0.03082673  0.07698304  0.60115831]\n",
      " [-0.57264899 -0.42605672  1.67661707]]\n",
      "1.0341361820251755\n"
     ]
    }
   ],
   "source": [
    "arr7=np.random.normal(size=(7,7))\n",
    "print(arr7[0,:])\n",
    "print(arr7[:,0])\n",
    "print(arr7[:,:3])\n",
    "print(arr7[2,1])"
   ]
  },
  {
   "cell_type": "markdown",
   "metadata": {},
   "source": [
    "Create an array that is the repetition of one 1, two 2s, and three 3s, then from this vector, create a new array including the \"unique\" values ​​(i.e., 1, 2, and 3)"
   ]
  },
  {
   "cell_type": "code",
   "execution_count": 21,
   "metadata": {},
   "outputs": [
    {
     "data": {
      "text/plain": [
       "array([1, 2, 3])"
      ]
     },
     "execution_count": 21,
     "metadata": {},
     "output_type": "execute_result"
    }
   ],
   "source": [
    "arr4=np.array([1,2,2,3,3,3])\n",
    "new_arr4=np.unique(arr4)\n",
    "new_arr4"
   ]
  },
  {
   "cell_type": "markdown",
   "metadata": {},
   "source": [
    "Créez un array de 5*5 comprenant des chiffres entiers choisis aléatoirement, puis réalisez une transposition de cette matrice"
   ]
  },
  {
   "cell_type": "code",
   "execution_count": 22,
   "metadata": {},
   "outputs": [
    {
     "name": "stdout",
     "output_type": "stream",
     "text": [
      "[[32 31 50 76  8]\n",
      " [ 3 53 27 10  1]\n",
      " [48 42 95 18 40]\n",
      " [92 90  7 51 31]\n",
      " [51 19 71 19 23]]\n",
      "[[32  3 48 92 51]\n",
      " [31 53 42 90 19]\n",
      " [50 27 95  7 71]\n",
      " [76 10 18 51 19]\n",
      " [ 8  1 40 31 23]]\n"
     ]
    }
   ],
   "source": [
    "arr5=np.random.randint(100,size=(5,5))\n",
    "print(arr5)\n",
    "print(np.transpose(arr5))"
   ]
  },
  {
   "cell_type": "markdown",
   "metadata": {},
   "source": [
    "Create a vector of 25 successive integers, then use reshape to make it a 5*5 matrix. Then play with the reshape function to illustrate how it works"
   ]
  },
  {
   "cell_type": "code",
   "execution_count": 23,
   "metadata": {},
   "outputs": [
    {
     "data": {
      "text/plain": [
       "array([[ 1,  2,  3,  4,  5],\n",
       "       [ 6,  7,  8,  9, 10],\n",
       "       [11, 12, 13, 14, 15],\n",
       "       [16, 17, 18, 19, 20],\n",
       "       [21, 22, 23, 24, 25]])"
      ]
     },
     "execution_count": 23,
     "metadata": {},
     "output_type": "execute_result"
    }
   ],
   "source": [
    "vect3=np.arange(1,26)\n",
    "np.reshape(vect3,newshape=(5,5))"
   ]
  },
  {
   "cell_type": "markdown",
   "metadata": {},
   "source": [
    "Make a broadcast of two arrays of your design"
   ]
  },
  {
   "cell_type": "code",
   "execution_count": 24,
   "metadata": {},
   "outputs": [
    {
     "name": "stdout",
     "output_type": "stream",
     "text": [
      "first array:  [1. 2. 3. 4. 5. 6.]\n",
      "second array:  [1 2 3 4 5 6]\n",
      "result:\n"
     ]
    },
    {
     "data": {
      "text/plain": [
       "array([ 1.,  4.,  9., 16., 25., 36.])"
      ]
     },
     "execution_count": 24,
     "metadata": {},
     "output_type": "execute_result"
    }
   ],
   "source": [
    "print('first array: ',arr1)\n",
    "print('second array: ',arr2)\n",
    "print('result:')\n",
    "arr1*arr2"
   ]
  },
  {
   "cell_type": "markdown",
   "metadata": {},
   "source": [
    "Illustrate “type casting” by changing the data type contained in an array of your choice"
   ]
  },
  {
   "cell_type": "code",
   "execution_count": 25,
   "metadata": {},
   "outputs": [
    {
     "data": {
      "text/plain": [
       "array([ 1.,  2.,  3.,  8.,  7., 50.], dtype=float32)"
      ]
     },
     "execution_count": 25,
     "metadata": {},
     "output_type": "execute_result"
    }
   ],
   "source": [
    "arr_int=np.array([1,2,3,8,7,50])\n",
    "arr_int.astype(dtype=np.float32)"
   ]
  },
  {
   "cell_type": "markdown",
   "metadata": {},
   "source": [
    "Create a 4*4 array including integers, which you will cut in half using vsplit"
   ]
  },
  {
   "cell_type": "code",
   "execution_count": 26,
   "metadata": {},
   "outputs": [
    {
     "name": "stdout",
     "output_type": "stream",
     "text": [
      "original array: \n",
      " [[39 88 71 89]\n",
      " [28 11 65 86]\n",
      " [37 90 28 31]\n",
      " [55 98 60 19]]\n",
      "new arrays: \n",
      " [array([[39, 88, 71, 89],\n",
      "       [28, 11, 65, 86]]), array([[37, 90, 28, 31],\n",
      "       [55, 98, 60, 19]])]\n"
     ]
    }
   ],
   "source": [
    "arr4D=np.random.randint(100,size=(4,4))\n",
    "print('original array: \\n',arr4D)\n",
    "print('new arrays: \\n',np.vsplit(arr4D,2))"
   ]
  },
  {
   "cell_type": "markdown",
   "metadata": {},
   "source": [
    "Create a 4*4 array of integers, which you \"unfold\" into a 1D vector using the reshape command. You will then use the shuffle and permutation commands to mix these numbers"
   ]
  },
  {
   "cell_type": "code",
   "execution_count": 27,
   "metadata": {},
   "outputs": [
    {
     "name": "stdout",
     "output_type": "stream",
     "text": [
      "original array: \n",
      " [[62 68 98  1]\n",
      " [67 52 57 66]\n",
      " [65 22 18 12]\n",
      " [31 79 68 35]]\n",
      "reshaped array:  [[62 68 98  1 67 52 57 66 65 22 18 12 31 79 68 35]]\n",
      "shuffled array: \n",
      " [[65 22 18 12]\n",
      " [31 79 68 35]\n",
      " [67 52 57 66]\n",
      " [62 68 98  1]]\n",
      "permutated array: \n",
      " [[31 79 68 35]\n",
      " [67 52 57 66]\n",
      " [62 68 98  1]\n",
      " [65 22 18 12]]\n"
     ]
    }
   ],
   "source": [
    "ar=np.random.randint(100,size=(4,4))\n",
    "print('original array: \\n',ar)\n",
    "ar1=np.reshape(ar,newshape=(1,16))\n",
    "print('reshaped array: ',ar1)\n",
    "np.random.shuffle(ar)\n",
    "print('shuffled array: \\n',ar)\n",
    "print('permutated array: \\n',np.random.permutation(ar))"
   ]
  },
  {
   "cell_type": "markdown",
   "metadata": {},
   "source": [
    "Merge a 3*3 matrix made of integers, with a vector of three elements, once horizontally, and once vertically"
   ]
  },
  {
   "cell_type": "code",
   "execution_count": 28,
   "metadata": {
    "tags": [
     "Problem"
    ]
   },
   "outputs": [
    {
     "name": "stdout",
     "output_type": "stream",
     "text": [
      "matrix 1: \n",
      " [[47  9 44]\n",
      " [84 23 23]\n",
      " [80 59 39]]\n",
      "matrix 2: \n",
      " [[94 17 30]\n",
      " [90 81 19]\n",
      " [92 92 92]]\n",
      "horizonatally: \n",
      " [[47  9 44 94 17 30]\n",
      " [84 23 23 90 81 19]\n",
      " [80 59 39 92 92 92]]\n",
      "vertically [[47  9 44]\n",
      " [84 23 23]\n",
      " [80 59 39]\n",
      " [94 17 30]\n",
      " [90 81 19]\n",
      " [92 92 92]]\n"
     ]
    }
   ],
   "source": [
    "arM=np.random.randint(100,size=(3,3))\n",
    "\n",
    "arM1=np.random.randint(100,size=(3,3))\n",
    "arV=np.arange(4,7) #it doesn't work if the matrixes are not of the same dimensions\n",
    "print('matrix 1: \\n',arM)\n",
    "print('matrix 2: \\n',arM1)\n",
    "print('horizonatally: \\n',np.concatenate((arM,arM1), axis=1)) #horizontally\n",
    "print('vertically',np.concatenate((arM,arM1), axis=0)) #vertically"
   ]
  },
  {
   "cell_type": "markdown",
   "metadata": {},
   "source": [
    "Demonstrate your mastery and understanding of the resize command, then the argsort command. Make comments"
   ]
  },
  {
   "cell_type": "code",
   "execution_count": null,
   "metadata": {},
   "outputs": [],
   "source": []
  },
  {
   "cell_type": "markdown",
   "metadata": {},
   "source": [
    "Write a NumPy program to get the n largest values ​​of an array, use np.partition and play with both positive and negative values ​​of n, the second argument of the function, before explaining in your words what is happening. pass"
   ]
  },
  {
   "cell_type": "code",
   "execution_count": null,
   "metadata": {},
   "outputs": [],
   "source": []
  },
  {
   "cell_type": "markdown",
   "metadata": {},
   "source": [
    "Sort a 2*2 array, on the one hand before having flattened it, and on the other hand after having flattened it"
   ]
  },
  {
   "cell_type": "code",
   "execution_count": 29,
   "metadata": {},
   "outputs": [
    {
     "name": "stdout",
     "output_type": "stream",
     "text": [
      "array:\n",
      " [[30 22]\n",
      " [50 15]]\n",
      "[30 22 50 15]\n",
      "Flattened: \n",
      " [[22 30]\n",
      " [15 50]]\n",
      "without flattening:\n",
      " [[30 15]\n",
      " [50 22]]\n"
     ]
    }
   ],
   "source": [
    "arr2D=np.array([[30,22],[50,15]])\n",
    "print('array:\\n',arr2D)\n",
    "print(arr2D.flatten())\n",
    "print('Flattened: \\n',np.sort(arr2D))\n",
    "print('without flattening:\\n', np.sort(arr2D,axis=0))"
   ]
  },
  {
   "cell_type": "markdown",
   "metadata": {
    "tags": [
     "problem"
    ]
   },
   "source": [
    "Produce a 1D array of the size of your choice, containing a random number of 2 between 5 and 10. Count the number of times the value 2 is repeated in the array."
   ]
  },
  {
   "cell_type": "code",
   "execution_count": 63,
   "metadata": {},
   "outputs": [
    {
     "name": "stdout",
     "output_type": "stream",
     "text": [
      "array of 2s: [2 2 2 2 2 2 2 2]\n",
      "hom many 2s:  8\n"
     ]
    }
   ],
   "source": [
    "array_of_rand=np.random.randint(5,11)\n",
    "array_of_2s=np.random.choice([2],array_of_rand)\n",
    "print('array of 2s:',array_of_2s)\n",
    "print('hom many 2s: ', np.count_nonzero(array_of_2s==2))"
   ]
  },
  {
   "cell_type": "markdown",
   "metadata": {},
   "source": [
    "Create an integer vector of size 30 with numbers between 1 and 12. Then use np.isin to check if the numbers 4, 6 and 7 appeared in the sequence"
   ]
  },
  {
   "cell_type": "code",
   "execution_count": 30,
   "metadata": {},
   "outputs": [
    {
     "name": "stdout",
     "output_type": "stream",
     "text": [
      "Vector:\n",
      " [ 3  6  6  1  5  6 11  3  5  4 10  4  7  8  2  1  3  5 10 10  4  4  7 11\n",
      "  5  3 11  4 10 11]\n"
     ]
    },
    {
     "data": {
      "text/plain": [
       "array([False,  True,  True, False, False,  True, False, False, False,\n",
       "        True, False,  True,  True, False, False, False, False, False,\n",
       "       False, False,  True,  True,  True, False, False, False, False,\n",
       "        True, False, False])"
      ]
     },
     "execution_count": 30,
     "metadata": {},
     "output_type": "execute_result"
    }
   ],
   "source": [
    "intVector=np.random.randint(1,high=12,size=30)\n",
    "print('Vector:\\n',intVector)\n",
    "np.isin(intVector,[4,6,7])"
   ]
  },
  {
   "cell_type": "markdown",
   "metadata": {},
   "source": [
    "**np.where**"
   ]
  },
  {
   "cell_type": "markdown",
   "metadata": {},
   "source": [
    "Create an integer vector of size 30 with numbers between 1 and 12, then use the np.where function to identify indexes of numbers greater than 6"
   ]
  },
  {
   "cell_type": "code",
   "execution_count": 31,
   "metadata": {},
   "outputs": [
    {
     "name": "stdout",
     "output_type": "stream",
     "text": [
      "[ 1  1  1  2  2  2  3  3  4  4  4  5  5  5  6  6  7  7  7  8  8  8  9  9\n",
      " 10 10 10 11 11 12]\n",
      "[16 17 18 19 20 21 22 23 24 25 26 27 28 29]\n"
     ]
    }
   ],
   "source": [
    "v=np.linspace(1,12,num=30,dtype=int)\n",
    "print(v)\n",
    "print(np.where(v>6)[0])"
   ]
  },
  {
   "cell_type": "markdown",
   "metadata": {},
   "source": [
    "**Données manquantes**"
   ]
  },
  {
   "cell_type": "markdown",
   "metadata": {},
   "source": [
    "Create an array of 3 * 3 and introduce a missing value at index [0,0], via np.nan"
   ]
  },
  {
   "cell_type": "code",
   "execution_count": 32,
   "metadata": {},
   "outputs": [
    {
     "data": {
      "text/plain": [
       "array([[       nan, 0.07586912, 0.42056307],\n",
       "       [0.85468547, 0.93035413, 0.85825894],\n",
       "       [0.50528498, 0.29158342, 0.94690148]])"
      ]
     },
     "execution_count": 32,
     "metadata": {},
     "output_type": "execute_result"
    }
   ],
   "source": [
    "ar=np.random.rand(3,3)\n",
    "ar[0,0]=np.nan\n",
    "ar\n",
    "\n"
   ]
  },
  {
   "cell_type": "markdown",
   "metadata": {},
   "source": [
    "Transform this missing value into zero using np.fillna"
   ]
  },
  {
   "cell_type": "code",
   "execution_count": 33,
   "metadata": {},
   "outputs": [
    {
     "data": {
      "text/plain": [
       "array([[0.        , 0.07586912, 0.42056307],\n",
       "       [0.85468547, 0.93035413, 0.85825894],\n",
       "       [0.50528498, 0.29158342, 0.94690148]])"
      ]
     },
     "execution_count": 33,
     "metadata": {},
     "output_type": "execute_result"
    }
   ],
   "source": [
    "np.nan_to_num(ar)"
   ]
  },
  {
   "cell_type": "markdown",
   "metadata": {},
   "source": [
    "You have two sets of integers: A = {1, 2, 3, 4, 5} and B = {3, 4, 5, 6, 7}. Write a program in Python using the appropriate function to find the union of these two sets and return the result."
   ]
  },
  {
   "cell_type": "code",
   "execution_count": 34,
   "metadata": {},
   "outputs": [
    {
     "name": "stdout",
     "output_type": "stream",
     "text": [
      "A:  [1 2 3 4 5]\n",
      "B:  [3 4 5 6 7]\n"
     ]
    },
    {
     "data": {
      "text/plain": [
       "array([1, 2, 3, 4, 5, 6, 7])"
      ]
     },
     "execution_count": 34,
     "metadata": {},
     "output_type": "execute_result"
    }
   ],
   "source": [
    "\n",
    "A=np.array([1, 2, 3, 4, 5])\n",
    "B=np.array([3, 4, 5, 6, 7])\n",
    "print('A: ',A)\n",
    "print('B: ',B)\n",
    "np.union1d(A,B)"
   ]
  },
  {
   "cell_type": "markdown",
   "metadata": {},
   "source": [
    "You have two sets of integers: A = {1, 2, 3, 4, 5} and B = {3, 4, 5, 6, 7}. Write a program in Python using the appropriate function to find the intersection of these two sets and return the result"
   ]
  },
  {
   "cell_type": "code",
   "execution_count": 35,
   "metadata": {},
   "outputs": [
    {
     "name": "stdout",
     "output_type": "stream",
     "text": [
      "A:  [1 2 3 4 5]\n",
      "B:  [3 4 5 6 7]\n",
      "Intersection:  [3 4 5]\n"
     ]
    }
   ],
   "source": [
    "print('A: ',A)\n",
    "print('B: ',B)\n",
    "print('Intersection: ',np.intersect1d(A,B))"
   ]
  },
  {
   "cell_type": "markdown",
   "metadata": {},
   "source": [
    "You have a set of integer values ​​= {2, 4, 6}, and a NumPy array = [1, 2, 3, 4, 5]. Write a program in Python using np.in1d ​​to check if each element in array belongs to the set values. The program must return an array of booleans indicating the membership of each element"
   ]
  },
  {
   "cell_type": "code",
   "execution_count": 36,
   "metadata": {},
   "outputs": [
    {
     "name": "stdout",
     "output_type": "stream",
     "text": [
      "Array:  [1 2 3 4 5]\n",
      "set:  [2 4 6]\n"
     ]
    },
    {
     "data": {
      "text/plain": [
       "array([False,  True, False,  True, False])"
      ]
     },
     "execution_count": 36,
     "metadata": {},
     "output_type": "execute_result"
    }
   ],
   "source": [
    "set=np.array([2,4,6])\n",
    "print('Array: ',A)\n",
    "print('set: ',set)\n",
    "np.in1d(A,set)"
   ]
  },
  {
   "cell_type": "markdown",
   "metadata": {},
   "source": [
    "You have two sets of integers: A = {1, 2, 3, 4, 5} and B = {3, 4, 5, 6, 7}. Write a program in Python using np.setdiff1d to find elements that are in A but not in B, then return the result."
   ]
  },
  {
   "cell_type": "code",
   "execution_count": 37,
   "metadata": {},
   "outputs": [
    {
     "name": "stdout",
     "output_type": "stream",
     "text": [
      "A:  [1 2 3 4 5]\n",
      "B:  [3 4 5 6 7]\n"
     ]
    },
    {
     "data": {
      "text/plain": [
       "array([1, 2])"
      ]
     },
     "execution_count": 37,
     "metadata": {},
     "output_type": "execute_result"
    }
   ],
   "source": [
    "print('A: ',A)\n",
    "print('B: ',B)\n",
    "np.setdiff1d(A,B)"
   ]
  },
  {
   "cell_type": "markdown",
   "metadata": {},
   "source": [
    "Write a function that takes a NumPy array as input and returns a new array containing the differences between consecutive elements of the input array. For example, if the input is [1, 3, 7, 11], the result should be [2, 4, 4]."
   ]
  },
  {
   "cell_type": "code",
   "execution_count": 38,
   "metadata": {},
   "outputs": [
    {
     "name": "stdout",
     "output_type": "stream",
     "text": [
      "[2. 2.]\n"
     ]
    }
   ],
   "source": [
    "def difference(array):\n",
    "    new_array=np.zeros(array.size-1)\n",
    "    for i in range(array.size-1):\n",
    "        new_array[i]=array[i+1]-array[i]\n",
    "    print(new_array)\n",
    "\n",
    "difference(set)"
   ]
  },
  {
   "cell_type": "markdown",
   "metadata": {},
   "source": [
    "**Calculus with NumPy**"
   ]
  },
  {
   "cell_type": "markdown",
   "metadata": {},
   "source": [
    "Create a matrix of 4*4 real numbers, both negative and positive, then calculate for each row the sum, average, and cumulative sum"
   ]
  },
  {
   "cell_type": "code",
   "execution_count": 57,
   "metadata": {},
   "outputs": [
    {
     "name": "stdout",
     "output_type": "stream",
     "text": [
      "matrix\n",
      " [[ 1  2  3  5]\n",
      " [-1  5  3 -8]\n",
      " [ 5 -5  8 10]\n",
      " [-2 -3 -5 -6]]\n",
      "sum rows:  [ 11  -1  18 -16]\n",
      "avarege:  [ 2.75 -0.25  4.5  -4.  ]\n"
     ]
    }
   ],
   "source": [
    "matr4=np.array([[1,2,3,5],[-1,5,3,-8],[5,-5,8,10],[-2,-3,-5,-6]])\n",
    "print('matrix\\n',matr4)\n",
    "print('sum rows: ',np.sum(matr4,axis=1)) \n",
    "print('avarege: ',np.mean(matr4,axis=1))"
   ]
  },
  {
   "cell_type": "markdown",
   "metadata": {},
   "source": [
    "Repeat the previous operation by averaging the absolute values ​​of the numbers, then the minimum value and the maximum value; you will finally create a last column using the maximum value with the np.round function"
   ]
  },
  {
   "cell_type": "code",
   "execution_count": 59,
   "metadata": {},
   "outputs": [
    {
     "name": "stdout",
     "output_type": "stream",
     "text": [
      "abs matrix\n",
      " [[ 1  2  3  5]\n",
      " [ 1  5  3  8]\n",
      " [ 5  5  8 10]\n",
      " [ 2  3  5  6]]\n",
      "sum rows:  [11 17 28 16]\n",
      "avarege:  [2.75 4.25 7.   4.  ]\n",
      "min_value:  1\n",
      "max_value:  10\n"
     ]
    }
   ],
   "source": [
    "abs_matr4=np.absolute(matr4)\n",
    "print('abs matrix\\n',abs_matr4)\n",
    "print('sum rows: ',np.sum(abs_matr4,axis=1)) \n",
    "print('avarege: ',np.mean(abs_matr4,axis=1))\n",
    "print('min_value: ',np.min(abs_matr4))\n",
    "print('max_value: ',np.max(abs_matr4))\n"
   ]
  },
  {
   "cell_type": "markdown",
   "metadata": {},
   "source": [
    "Place 10 points randomly on a plane, then calculate the distance vectors between these different points. How many distance calculations do you do? Visualize points with matplotlib"
   ]
  },
  {
   "cell_type": "code",
   "execution_count": null,
   "metadata": {},
   "outputs": [],
   "source": []
  },
  {
   "cell_type": "markdown",
   "metadata": {},
   "source": [
    "Now visualize these distances on the plan, still with matplotlib"
   ]
  },
  {
   "cell_type": "code",
   "execution_count": null,
   "metadata": {},
   "outputs": [],
   "source": []
  },
  {
   "cell_type": "markdown",
   "metadata": {},
   "source": [
    "Create a list of randomly generated integers, and use np.mod (for modulo) to identify indexes of even numbers"
   ]
  },
  {
   "cell_type": "code",
   "execution_count": 40,
   "metadata": {},
   "outputs": [
    {
     "name": "stdout",
     "output_type": "stream",
     "text": [
      "[62 38 10 21 36]\n",
      "(array([0, 1, 2, 4], dtype=int64),)\n"
     ]
    }
   ],
   "source": [
    "randomarray=np.random.randint(100,size=5)\n",
    "print(randomarray)\n",
    "print(np.where(np.mod(randomarray,2)==0))\n"
   ]
  },
  {
   "cell_type": "markdown",
   "metadata": {},
   "source": [
    "**Fonctions universelles**"
   ]
  },
  {
   "cell_type": "markdown",
   "metadata": {},
   "source": [
    "Take the vector {3,4,6,9} and use the add and multiply functions"
   ]
  },
  {
   "cell_type": "code",
   "execution_count": 56,
   "metadata": {},
   "outputs": [
    {
     "name": "stdout",
     "output_type": "stream",
     "text": [
      "vector 1\n",
      " [3, 4, 6, 9]\n",
      "vector 2\n",
      " [1, 2, 3, 4]\n",
      "add:  [ 4  6  9 13]\n",
      "multiplication:  [ 3  8 18 36]\n"
     ]
    }
   ],
   "source": [
    "print('vector 1\\n',[3,4,6,9])\n",
    "print('vector 2\\n',[1,2,3,4])\n",
    "print('add: ',np.add([3,4,6,9],[1,2,3,4]))\n",
    "print('multiplication: ',np.multiply([3,4,6,9],[1,2,3,4]))"
   ]
  },
  {
   "cell_type": "markdown",
   "metadata": {},
   "source": [
    "Use multiply.outer on two vectors, and explain the nature of the corresponding operations"
   ]
  },
  {
   "cell_type": "code",
   "execution_count": 41,
   "metadata": {},
   "outputs": [
    {
     "data": {
      "text/plain": [
       "array([[ 2,  4,  6],\n",
       "       [ 4,  8, 12]])"
      ]
     },
     "execution_count": 41,
     "metadata": {},
     "output_type": "execute_result"
    }
   ],
   "source": [
    "v1=[2,4]\n",
    "v2=[1,2,3]\n",
    "np.outer(v1,v2)"
   ]
  },
  {
   "cell_type": "markdown",
   "metadata": {},
   "source": [
    "Apply the negative function to the array [2,3,5]"
   ]
  },
  {
   "cell_type": "code",
   "execution_count": 42,
   "metadata": {},
   "outputs": [
    {
     "data": {
      "text/plain": [
       "array([-2, -3, -5])"
      ]
     },
     "execution_count": 42,
     "metadata": {},
     "output_type": "execute_result"
    }
   ],
   "source": [
    "np.negative([2,3,5])"
   ]
  },
  {
   "cell_type": "markdown",
   "metadata": {},
   "source": [
    "**Numpy and strings**"
   ]
  },
  {
   "cell_type": "markdown",
   "metadata": {},
   "source": [
    "Merge two arrays each comprising two strings, using the np.char.add function"
   ]
  },
  {
   "cell_type": "code",
   "execution_count": 43,
   "metadata": {},
   "outputs": [
    {
     "data": {
      "text/plain": [
       "array('internet', dtype='<U8')"
      ]
     },
     "execution_count": 43,
     "metadata": {},
     "output_type": "execute_result"
    }
   ],
   "source": [
    "np.char.add('inter','net')"
   ]
  },
  {
   "cell_type": "markdown",
   "metadata": {},
   "source": [
    "Use the np.char.join function to insert the symbol \";\" into a 5-character string. between each letter"
   ]
  },
  {
   "cell_type": "code",
   "execution_count": 44,
   "metadata": {},
   "outputs": [
    {
     "data": {
      "text/plain": [
       "array('k;r;a;s;i', dtype='<U9')"
      ]
     },
     "execution_count": 44,
     "metadata": {},
     "output_type": "execute_result"
    }
   ],
   "source": [
    "np.char.join(';','krasi')"
   ]
  },
  {
   "cell_type": "markdown",
   "metadata": {},
   "source": [
    "Use the np.char.upper function on the character string of your choice"
   ]
  },
  {
   "cell_type": "code",
   "execution_count": 45,
   "metadata": {},
   "outputs": [
    {
     "data": {
      "text/plain": [
       "array('KRASI', dtype='<U5')"
      ]
     },
     "execution_count": 45,
     "metadata": {},
     "output_type": "execute_result"
    }
   ],
   "source": [
    "np.char.upper('Krasi')"
   ]
  },
  {
   "cell_type": "markdown",
   "metadata": {},
   "source": [
    "Use np.char.replace to demonstrate how to replace one string (in a sentence) with another"
   ]
  },
  {
   "cell_type": "code",
   "execution_count": 46,
   "metadata": {},
   "outputs": [
    {
     "data": {
      "text/plain": [
       "array('the cat is happy', dtype='<U16')"
      ]
     },
     "execution_count": 46,
     "metadata": {},
     "output_type": "execute_result"
    }
   ],
   "source": [
    "np.char.replace('the dog is happy','dog','cat')"
   ]
  },
  {
   "cell_type": "markdown",
   "metadata": {},
   "source": [
    "Use np.char.split to split an array containing two sentences into as many elements as there are words in them"
   ]
  },
  {
   "cell_type": "code",
   "execution_count": 47,
   "metadata": {},
   "outputs": [
    {
     "data": {
      "text/plain": [
       "array(list(['The', 'day', 'is', 'hot.', 'I', 'will', 'go', 'to', 'the', 'beach.']),\n",
       "      dtype=object)"
      ]
     },
     "execution_count": 47,
     "metadata": {},
     "output_type": "execute_result"
    }
   ],
   "source": [
    "np.char.split('The day is hot. I will go to the beach.')"
   ]
  },
  {
   "cell_type": "markdown",
   "metadata": {},
   "source": [
    "Create an array containing three strings including a repeated pattern, common to the three elements. Use np.char.count to count the number of times this pattern is repeated"
   ]
  },
  {
   "cell_type": "code",
   "execution_count": 48,
   "metadata": {},
   "outputs": [
    {
     "data": {
      "text/plain": [
       "array([1, 1, 2])"
      ]
     },
     "execution_count": 48,
     "metadata": {},
     "output_type": "execute_result"
    }
   ],
   "source": [
    "strA=np.array(['strr','krrp','rrlfrr'])\n",
    "np.char.count(strA,'rr')"
   ]
  },
  {
   "cell_type": "markdown",
   "metadata": {},
   "source": [
    "Modify an array of length 5 by inserting elements, then removing some"
   ]
  },
  {
   "cell_type": "code",
   "execution_count": 49,
   "metadata": {},
   "outputs": [
    {
     "name": "stdout",
     "output_type": "stream",
     "text": [
      "['a' 'cat' 'dog' 'bear' 'horse' 'mouse']\n",
      "['cat' 'dog' 'bear' 'mouse']\n"
     ]
    }
   ],
   "source": [
    "strB=['cat','dog','bear','horse','mouse']\n",
    "print(np.insert(strB,0,'a')) #to put in 0 position\n",
    "print(np.delete(strB,3)) #to remove object after 3 position"
   ]
  },
  {
   "cell_type": "markdown",
   "metadata": {},
   "source": [
    "Write a NumPy program to add a border (padded with 0s) around an existing array. You need two layers of zeros all around"
   ]
  },
  {
   "cell_type": "code",
   "execution_count": 50,
   "metadata": {},
   "outputs": [
    {
     "name": "stdout",
     "output_type": "stream",
     "text": [
      "old;\n",
      " [[0.28024927 0.2281349  0.531691   0.46518578]\n",
      " [0.99727843 0.32807414 0.69625097 0.50294832]\n",
      " [0.08620606 0.17490368 0.23498642 0.16188748]\n",
      " [0.85202185 0.63836983 0.97439916 0.14067864]]\n",
      "new\n",
      " [[0.         0.         0.         0.         0.         0.        ]\n",
      " [0.         0.28024927 0.2281349  0.531691   0.46518578 0.        ]\n",
      " [0.         0.99727843 0.32807414 0.69625097 0.50294832 0.        ]\n",
      " [0.         0.08620606 0.17490368 0.23498642 0.16188748 0.        ]\n",
      " [0.         0.85202185 0.63836983 0.97439916 0.14067864 0.        ]\n",
      " [0.         0.         0.         0.         0.         0.        ]]\n"
     ]
    }
   ],
   "source": [
    "\n",
    "print('old;\\n',matr4)\n",
    "print('new\\n',np.pad(matr4, pad_width=1, mode='constant', constant_values=0))"
   ]
  },
  {
   "cell_type": "markdown",
   "metadata": {},
   "source": [
    "Write a NumPy program to create a 5x5 array with random values ​​and normalize it by row"
   ]
  },
  {
   "cell_type": "code",
   "execution_count": 51,
   "metadata": {},
   "outputs": [
    {
     "name": "stdout",
     "output_type": "stream",
     "text": [
      "original\n",
      " [[90 40 65 72 17]\n",
      " [ 5 85 71 37 64]\n",
      " [28 11 19 64 93]\n",
      " [63 58 93 49 16]\n",
      " [24 61 27 78 63]]\n",
      "[[0.31690141 0.14084507 0.22887324 0.25352113 0.05985915]\n",
      " [0.01908397 0.32442748 0.27099237 0.14122137 0.24427481]\n",
      " [0.13023256 0.05116279 0.08837209 0.29767442 0.43255814]\n",
      " [0.22580645 0.2078853  0.33333333 0.17562724 0.05734767]\n",
      " [0.09486166 0.24110672 0.10671937 0.3083004  0.24901186]]\n"
     ]
    }
   ],
   "source": [
    "\n",
    "an_array=np.random.randint(100,size=(5,5))\n",
    "print('original\\n',an_array)\n",
    "sum_of_rows = an_array.sum(axis=1)\n",
    "normalized_array = an_array / sum_of_rows[:, np.newaxis]\n",
    "\n",
    "print(normalized_array)"
   ]
  },
  {
   "cell_type": "markdown",
   "metadata": {},
   "source": [
    "**Pour aller plus loin que la simple maîtrise des fonctions Numpy** (ChatGPT interdit)"
   ]
  },
  {
   "cell_type": "markdown",
   "metadata": {},
   "source": [
    "Nous vous proposons quelques exercices de programmation, pour aller au-delà de la simple connaissance de fonctions"
   ]
  },
  {
   "cell_type": "markdown",
   "metadata": {},
   "source": [
    "*Exercice 1*"
   ]
  },
  {
   "cell_type": "markdown",
   "metadata": {},
   "source": [
    "Si le produit de deux nombres entiers est égal ou inférieur à 1 000, renvoyez le produit ; sinon, renvoyez leur somme. Nous attendons de vous que vous construisiez une fonction. numéro1 = 20,\n",
    "nombre2 = 30, la sortie est 600"
   ]
  },
  {
   "cell_type": "code",
   "execution_count": 52,
   "metadata": {},
   "outputs": [
    {
     "name": "stdout",
     "output_type": "stream",
     "text": [
      "230\n"
     ]
    }
   ],
   "source": [
    "def productof(num1,num2):\n",
    "    result=num1*num2\n",
    "    if result<=1000:\n",
    "        print(result)\n",
    "    else: print(num1+num2)\n",
    "productof(200,30)\n"
   ]
  },
  {
   "cell_type": "markdown",
   "metadata": {},
   "source": [
    "*Exercice 2*"
   ]
  },
  {
   "cell_type": "markdown",
   "metadata": {},
   "source": [
    "Créez un programme qui invite l'utilisateur à saisir une chaîne, puis affiche\n",
    "les caractères situés à des positions d'index paires. Par exemple, si la chaîne est\n",
    "\"exemple\", le programme doit afficher les caractères \"x\", \"m\", \"l\"."
   ]
  },
  {
   "cell_type": "code",
   "execution_count": null,
   "metadata": {},
   "outputs": [],
   "source": []
  },
  {
   "cell_type": "markdown",
   "metadata": {},
   "source": [
    "*Exercice 3*"
   ]
  },
  {
   "cell_type": "markdown",
   "metadata": {},
   "source": [
    "Créez un programme qui prend une chaîne en entrée et supprime les caractères de\n",
    "le début de la chaîne jusqu'à un index spécifié, ce qui donne une nouvelle chaîne.\n",
    "Par exemple, si nous appelons la fonction remove chars(”example”, 3), la sortie\n",
    "devrait être « mple ». Notez que l'index spécifié, noté 'n', doit être inférieur à la longueur de\n",
    "la chaîne."
   ]
  },
  {
   "cell_type": "code",
   "execution_count": null,
   "metadata": {},
   "outputs": [],
   "source": []
  },
  {
   "cell_type": "markdown",
   "metadata": {},
   "source": [
    "*Exercice 4*"
   ]
  },
  {
   "cell_type": "markdown",
   "metadata": {},
   "source": [
    "Itérer la liste de nombres donnée et imprimer uniquement les nombres divisibles\n",
    "par 5:  la liste donnée est [10, 20, 33, 46, 55] Divisible par 5 : 10, 20, 55"
   ]
  },
  {
   "cell_type": "code",
   "execution_count": null,
   "metadata": {},
   "outputs": [],
   "source": []
  },
  {
   "cell_type": "markdown",
   "metadata": {},
   "source": [
    "*Exercice 5*"
   ]
  },
  {
   "cell_type": "markdown",
   "metadata": {},
   "source": [
    "Développer un programme qui détermine le nombre d'occurrences de la sous-chaîne\n",
    "\"Emma\" dans une chaîne donnée.\n",
    "• Donné : « Emma est une bonne développeuse. Emma est institutrice. »\n",
    "• Résultat attendu : Emma est apparue 2 fois\n",
    "Faites-le une fois avec la méthode « count » de chaîne, une fois sans."
   ]
  },
  {
   "cell_type": "code",
   "execution_count": null,
   "metadata": {},
   "outputs": [],
   "source": []
  },
  {
   "cell_type": "markdown",
   "metadata": {},
   "source": [
    "*Exercice 6*"
   ]
  },
  {
   "cell_type": "markdown",
   "metadata": {},
   "source": [
    "Écrivez un programme pour vérifier si le nombre donné est un nombre palindrome.\n",
    "Un nombre palindrome est un nombre qui est le même après l'inverse. Par exemple\n",
    "545, ce sont les nombres palindromes\n",
    "Production attendue:\n",
    "• numéro original 121 : Oui. le nombre donné est le numéro du palindrome\n",
    "• numéro d'origine 125 : le numéro donné n'est pas un numéro palindrome"
   ]
  },
  {
   "cell_type": "code",
   "execution_count": null,
   "metadata": {},
   "outputs": [],
   "source": []
  },
  {
   "cell_type": "markdown",
   "metadata": {},
   "source": [
    "*Exercice 7*"
   ]
  },
  {
   "cell_type": "markdown",
   "metadata": {},
   "source": [
    "Écrivez une boucle while pour afficher chaque caractère d'une chaîne et, si un caractère est\n",
    "numéro : arrêter la boucle."
   ]
  },
  {
   "cell_type": "code",
   "execution_count": null,
   "metadata": {},
   "outputs": [],
   "source": []
  }
 ],
 "metadata": {
  "kernelspec": {
   "display_name": "Python 3",
   "language": "python",
   "name": "python3"
  },
  "language_info": {
   "codemirror_mode": {
    "name": "ipython",
    "version": 3
   },
   "file_extension": ".py",
   "mimetype": "text/x-python",
   "name": "python",
   "nbconvert_exporter": "python",
   "pygments_lexer": "ipython3",
   "version": "3.8.3"
  }
 },
 "nbformat": 4,
 "nbformat_minor": 2
}
